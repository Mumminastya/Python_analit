{
  "metadata": {
    "language_info": {
      "codemirror_mode": {
        "name": "python",
        "version": 3
      },
      "file_extension": ".py",
      "mimetype": "text/x-python",
      "name": "python",
      "nbconvert_exporter": "python",
      "pygments_lexer": "ipython3",
      "version": "3.8"
    },
    "kernelspec": {
      "name": "python",
      "display_name": "Python (Pyodide)",
      "language": "python"
    }
  },
  "nbformat_minor": 4,
  "nbformat": 4,
  "cells": [
    {
      "cell_type": "code",
      "source": "#Урок 1",
      "metadata": {},
      "execution_count": null,
      "outputs": []
    },
    {
      "cell_type": "code",
      "source": "##Условие 2",
      "metadata": {},
      "execution_count": null,
      "outputs": []
    },
    {
      "cell_type": "code",
      "source": "##Условие 3\ncosts = [100, 125, -90, 345, 655, -1, 0, 200]\npositive_costs = [x for x in costs if x > 0]\nprint(sum(positive_costs))",
      "metadata": {
        "trusted": true
      },
      "execution_count": 2,
      "outputs": [
        {
          "name": "stdout",
          "text": "1425\n",
          "output_type": "stream"
        }
      ]
    },
    {
      "cell_type": "code",
      "source": "##Условие 4\nfrom datetime import datetime\nfrom collections import defaultdict\n\ndef combine(keys: list[datetime], values: list[int]):\n    res = {keys[i]: values[i] for i in range(len(keys))}\n    return res\n\ndef group_motn(dict_costs):\n    d = defaultdict(int)\n    for record in dict_costs.keys():\n        date_object = datetime.strptime(record, '%Y-%m-%d').date()\n        date = date_object.replace(day=1)\n        d[date] = d[date] + dict_costs[record]\n    return d\n\ndates =  ['2021-09-14', '2021-12-15', '2021-09-08', '2021-12-05', '2021-10-09', '2021-09-30', '2021-12-22', '2021-11-29', '2021-12-24', '2021-11-26', '2021-10-27', '2021-12-18', '2021-11-09', '2021-11-23', '2021-09-27', '2021-10-02', '2021-12-27', '2021-09-20', '2021-12-13', '2021-11-01', '2021-11-09', '2021-12-06', '2021-12-08', '2021-10-09', '2021-10-31', '2021-09-30', '2021-11-09', '2021-12-13', '2021-10-26', '2021-12-09']\ncosts = [1270, 8413, 9028, 3703, 5739, 4095, 295, 4944, 5723, 3701, 4471, 651, 7037, 4274, 6275, 4988, 6930, 2971, 6592, 2004, 2822, 519, 3406, 2732, 5015, 2008, 316, 6333, 5700, 2887]\ndict_costs = combine(dates, costs)\n##Условие 4.1\nnovember_costs = {k: v for k, v in dict_costs.items() if k >= '2021-11-01' and k < '2021-12-01'}\nprint(sum(november_costs.values()))\n\n##Условие 4.2\nmonth_costs = group_motn(dict_costs)\nprint(month_costs)",
      "metadata": {
        "trusted": true
      },
      "execution_count": 24,
      "outputs": [
        {
          "name": "stdout",
          "text": "15239\ndefaultdict(<class 'int'>, {datetime.date(2021, 9, 1): 21552, datetime.date(2021, 12, 1): 38860, datetime.date(2021, 10, 1): 22906, datetime.date(2021, 11, 1): 15239})\n",
          "output_type": "stream"
        }
      ]
    },
    {
      "cell_type": "code",
      "source": "",
      "metadata": {},
      "execution_count": null,
      "outputs": []
    },
    {
      "cell_type": "code",
      "source": "",
      "metadata": {},
      "execution_count": null,
      "outputs": []
    }
  ]
}